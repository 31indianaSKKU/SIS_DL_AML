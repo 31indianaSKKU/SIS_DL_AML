{
  "nbformat": 4,
  "nbformat_minor": 0,
  "metadata": {
    "colab": {
      "provenance": [],
      "include_colab_link": true
    },
    "kernelspec": {
      "name": "python3",
      "display_name": "Python 3"
    },
    "language_info": {
      "name": "python"
    }
  },
  "cells": [
    {
      "cell_type": "markdown",
      "metadata": {
        "id": "view-in-github",
        "colab_type": "text"
      },
      "source": [
        "<a href=\"https://colab.research.google.com/github/31indianaSKKU/SIS_DL_AML/blob/main/AML_KNN_prac_4.ipynb\" target=\"_parent\"><img src=\"https://colab.research.google.com/assets/colab-badge.svg\" alt=\"Open In Colab\"/></a>"
      ]
    },
    {
      "cell_type": "code",
      "execution_count": null,
      "metadata": {
        "colab": {
          "base_uri": "https://localhost:8080/"
        },
        "id": "ONlrjhwOS5G_",
        "outputId": "d80e4588-6f36-46af-b9e5-d2911b99f4fe"
      },
      "outputs": [
        {
          "output_type": "stream",
          "name": "stdout",
          "text": [
            "k값을 입력하세요: 42\n",
            "모델의 정확도: 0.5\n"
          ]
        }
      ],
      "source": [
        "import numpy as np\n",
        "\n",
        "# 100개의 2차원 데이터 샘플 랜덤 생성\n",
        "X = np.random.rand(100, 2)\n",
        "y = np.random.randint(2, size=100)\n",
        "\n",
        "# 사용자로부터 k값 입력 받기\n",
        "k = int(input(\"k값을 입력하세요: \"))\n",
        "\n",
        "# 유클리드 거리 계산 함수\n",
        "def euclidean_distance(x1, x2):\n",
        "    return np.sqrt(np.sum((x1 - x2)**2))\n",
        "\n",
        "# KNN 분류 함수\n",
        "def knn_predict(X_train, y_train, x_test, k):\n",
        "    distances = []\n",
        "    for i in range(len(X_train)):\n",
        "        distance = euclidean_distance(X_train[i], x_test)\n",
        "        distances.append((distance, y_train[i]))\n",
        "    distances.sort()\n",
        "    neighbors = distances[:k]\n",
        "    classes = {}\n",
        "    for neighbor in neighbors:\n",
        "        if neighbor[1] in classes:\n",
        "            classes[neighbor[1]] += 1\n",
        "        else:\n",
        "            classes[neighbor[1]] = 1\n",
        "    sorted_classes = sorted(classes.items(), key=lambda x: x[1], reverse=True)\n",
        "    return sorted_classes[0][0]\n",
        "\n",
        "# 데이터를 train set과 test set으로 분리\n",
        "indices = np.random.permutation(X.shape[0])\n",
        "train_indices, test_indices = indices[:int(0.8*X.shape[0])], indices[int(0.8*X.shape[0]):]\n",
        "X_train, X_test = X[train_indices,:], X[test_indices,:]\n",
        "y_train, y_test = y[train_indices], y[test_indices]\n",
        "\n",
        "# test set에 대한 예측\n",
        "y_pred = []\n",
        "for i in range(X_test.shape[0]):\n",
        "    y_pred.append(knn_predict(X_train, y_train, X_test[i], k))\n",
        "\n",
        "# 모델의 정확도 계산\n",
        "accuracy = np.sum(y_pred == y_test) / y_test.shape[0]\n",
        "print(\"모델의 정확도:\", accuracy)\n",
        "\n"
      ]
    }
  ]
}