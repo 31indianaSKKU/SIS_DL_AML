{
  "nbformat": 4,
  "nbformat_minor": 0,
  "metadata": {
    "colab": {
      "provenance": [],
      "include_colab_link": true
    },
    "kernelspec": {
      "name": "python3",
      "display_name": "Python 3"
    },
    "language_info": {
      "name": "python"
    }
  },
  "cells": [
    {
      "cell_type": "markdown",
      "metadata": {
        "id": "view-in-github",
        "colab_type": "text"
      },
      "source": [
        "<a href=\"https://colab.research.google.com/github/31indianaSKKU/SIS_DL_AML/blob/main/AML_KNN_prac_2.ipynb\" target=\"_parent\"><img src=\"https://colab.research.google.com/assets/colab-badge.svg\" alt=\"Open In Colab\"/></a>"
      ]
    },
    {
      "cell_type": "code",
      "source": [
        "import numpy as np\n",
        "from collections import Counter\n",
        "\n",
        "# 랜덤 데이터 생성\n",
        "samples = np.random.rand(100, 2)\n",
        "\n",
        "# k-NN 알고리즘 구현\n",
        "def knn(x_train, y_train, x_test, k):\n",
        "    # 훈련 데이터와 테스트 데이터 거리를 구함.(열기준)\n",
        "    distances = np.sqrt(np.sum((x_train - x_test) ** 2, axis=1))\n",
        "\n",
        "    # 가장 가까운 k개의 이웃 선택\n",
        "    k_indices = np.argsort(distances)[:k]\n",
        "    k_labels = y_train[k_indices]\n",
        "\n",
        "    # 가장 많은 이웃 클래스 선택\n",
        "    most_common = Counter(k_labels).most_common()\n",
        "    return most_common[0][0]\n",
        "\n",
        "# 테스트 데이터 생성\n",
        "test_samples = np.random.rand(10, 2)\n",
        "\n",
        "# 학습 데이터와 레이블 생성\n",
        "train_indices = np.arange(100)\n",
        "np.random.shuffle(train_indices)\n",
        "train_indices = train_indices[:-10]\n",
        "train_samples = samples[train_indices]\n",
        "train_labels = np.array([int(x[0] > x[1]) for x in train_samples])\n",
        "\n",
        "# k-NN 예측 결과 출력\n",
        "k_ = int(input())\n",
        "for test_sample in test_samples:\n",
        "    prediction = knn(train_samples, train_labels, test_sample, k=k_)\n",
        "    print(f\"Test sample: {test_sample}, Predicted label: {prediction}\")"
      ],
      "metadata": {
        "colab": {
          "base_uri": "https://localhost:8080/"
        },
        "id": "bFwTlrhlTHhm",
        "outputId": "876ebbe5-0a3d-4f3b-b1d1-66162ebe386f"
      },
      "execution_count": null,
      "outputs": [
        {
          "output_type": "stream",
          "name": "stdout",
          "text": [
            "3\n",
            "Test sample: [0.57310508 0.30654227], Predicted label: 1\n",
            "Test sample: [0.43102054 0.1775941 ], Predicted label: 1\n",
            "Test sample: [0.28938493 0.70829591], Predicted label: 0\n",
            "Test sample: [0.41222717 0.29145944], Predicted label: 1\n",
            "Test sample: [0.05220983 0.16975317], Predicted label: 0\n",
            "Test sample: [0.90776574 0.56179099], Predicted label: 1\n",
            "Test sample: [0.31151267 0.88562176], Predicted label: 0\n",
            "Test sample: [0.05674247 0.68958659], Predicted label: 0\n",
            "Test sample: [0.01159437 0.57054217], Predicted label: 0\n",
            "Test sample: [0.06771492 0.69505541], Predicted label: 0\n"
          ]
        }
      ]
    },
    {
      "cell_type": "code",
      "source": [
        "train_samples"
      ],
      "metadata": {
        "id": "tV38-M_qTyK_"
      },
      "execution_count": null,
      "outputs": []
    },
    {
      "cell_type": "code",
      "source": [
        "train_labels"
      ],
      "metadata": {
        "colab": {
          "base_uri": "https://localhost:8080/"
        },
        "id": "EkAkZeyrVu_7",
        "outputId": "dc84ee5f-1d06-48a9-f5bf-d559c3492f7d"
      },
      "execution_count": null,
      "outputs": [
        {
          "output_type": "execute_result",
          "data": {
            "text/plain": [
              "array([0, 0, 0, 1, 1, 0, 0, 1, 1, 0, 0, 1, 0, 1, 1, 0, 1, 1, 0, 1, 1, 1,\n",
              "       1, 1, 1, 0, 0, 1, 0, 1, 1, 1, 1, 1, 0, 0, 0, 0, 1, 0, 1, 1, 0, 1,\n",
              "       0, 1, 0, 1, 1, 0, 0, 0, 0, 0, 1, 0, 1, 1, 0, 1, 0, 0, 1, 0, 1, 1,\n",
              "       1, 0, 0, 1, 0, 0, 0, 0, 1, 1, 0, 0, 0, 0, 1, 1, 0, 1, 0, 1, 1, 0,\n",
              "       1, 0])"
            ]
          },
          "metadata": {},
          "execution_count": 9
        }
      ]
    },
    {
      "cell_type": "code",
      "source": [],
      "metadata": {
        "id": "-7OifsvXV--8"
      },
      "execution_count": null,
      "outputs": []
    }
  ]
}