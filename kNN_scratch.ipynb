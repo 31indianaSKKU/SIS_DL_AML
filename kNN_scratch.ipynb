{
  "nbformat": 4,
  "nbformat_minor": 0,
  "metadata": {
    "colab": {
      "provenance": [],
      "include_colab_link": true
    },
    "kernelspec": {
      "name": "python3",
      "display_name": "Python 3"
    },
    "language_info": {
      "name": "python"
    }
  },
  "cells": [
    {
      "cell_type": "markdown",
      "metadata": {
        "id": "view-in-github",
        "colab_type": "text"
      },
      "source": [
        "<a href=\"https://colab.research.google.com/github/31indianaSKKU/SIS_DL_AML/blob/main/kNN_scratch.ipynb\" target=\"_parent\"><img src=\"https://colab.research.google.com/assets/colab-badge.svg\" alt=\"Open In Colab\"/></a>"
      ]
    },
    {
      "cell_type": "code",
      "execution_count": 1,
      "metadata": {
        "colab": {
          "base_uri": "https://localhost:8080/"
        },
        "id": "hpWhy7SJSqNA",
        "outputId": "5fba9af0-1ca9-4e7f-e29c-5cc47424a1a4"
      },
      "outputs": [
        {
          "output_type": "stream",
          "name": "stdout",
          "text": [
            "Enter k: 3\n",
            "Accuracy: 0.6\n"
          ]
        }
      ],
      "source": [
        "import random\n",
        "\n",
        "def distance(p1, p2):\n",
        "    return ((p1[0]-p2[0])**2 + (p1[1]-p2[1])**2)**0.5\n",
        "\n",
        "data = []\n",
        "for i in range(100):\n",
        "    x = random.uniform(0, 10)\n",
        "    y = random.uniform(0, 10)\n",
        "    label = random.choice(['A', 'B'])\n",
        "    data.append((x, y, label))\n",
        "\n",
        "train_data = data[:80]\n",
        "test_data = data[80:]\n",
        "\n",
        "\n",
        "def knn(train_data, test_point, k):\n",
        "    distances = []\n",
        "    for train_point in train_data:\n",
        "        dist = distance(train_point[:2], test_point[:2])\n",
        "        distances.append((dist, train_point[2]))\n",
        "    distances.sort()\n",
        "    k_labels = [label for _, label in distances[:k]]\n",
        "    label = max(k_labels, key=k_labels.count)\n",
        "    return label\n",
        "\n",
        "k = int(input(\"Enter k: \"))\n",
        "correct = 0\n",
        "for test_point in test_data:\n",
        "    pred = knn(train_data, test_point, k)\n",
        "    if pred == test_point[2]:\n",
        "        correct += 1\n",
        "\n",
        "accuracy = correct / len(test_data)\n",
        "print(\"Accuracy:\", accuracy)"
      ]
    }
  ]
}